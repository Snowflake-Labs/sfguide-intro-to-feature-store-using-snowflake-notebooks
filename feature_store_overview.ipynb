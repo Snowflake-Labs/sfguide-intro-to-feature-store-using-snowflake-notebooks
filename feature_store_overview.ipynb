{
 "cells": [
  {
   "cell_type": "markdown",
   "id": "b0251db7-0710-40a9-bc2d-d9c9149b700c",
   "metadata": {
    "collapsed": false,
    "name": "overview_md"
   },
   "source": [
    "# Snowflake Feature Store\n",
    "\n",
    "Feature engineering, in which raw data is transformed into features that can be used to train machine learning models, is a vital part of building high-quality machine learning applications. A feature store lets you easily create, find, and employ features that work with your data.\n",
    "\n",
    "The Snowflake Feature Store is designed to make creating, storing, and managing features for data science and machine learning workloads easier and more efficient. In this notebook, we will go through the steps to create and use Snowflake Feature Store.  "
   ]
  },
  {
   "cell_type": "markdown",
   "id": "5aadd558-5448-47fd-ae66-ab24a59af4d5",
   "metadata": {
    "name": "session_md"
   },
   "source": [
    "## Prepare Snowpark Session\n",
    "\n",
    "Create a Snowpark Session using your Snowflake account credentials. For more information about creating a\n",
    "`Session`, see [Creating a Session for Snowpark Python](https://docs.snowflake.com/en/developer-guide/snowpark/python/creating-session)."
   ]
  },
  {
   "cell_type": "code",
   "execution_count": 1,
   "id": "c950d9e7-8da7-40a1-926f-ea47ffc02bd0",
   "metadata": {
    "codeCollapsed": false,
    "collapsed": false,
    "language": "python",
    "name": "create_session"
   },
   "outputs": [],
   "source": [
    "from snowflake.snowpark import Session, context, exceptions\n",
    "\n",
    "from snowflake.snowpark.context import get_active_session\n",
    "session = get_active_session()\n",
    "\n",
    "# Add a query tag to the session. This helps with debugging and performance monitoring.\n",
    "session.query_tag = {\"origin\":\"sf_sit\", \"name\":\"notebook_pack_feature_store_overview\", \"version\":{\"major\":1, \"minor\":0}}\n",
    "\n",
    "# Set session context \n",
    "session.use_role(\"FEATURE_STORE_LAB_USER\") \n",
    "\n",
    "# Print the current role, warehouse, and database/schema\n",
    "print(f\"role: {session.get_current_role()} | WH: {session.get_current_warehouse()} | DB.SCHEMA: {session.get_fully_qualified_current_schema()}\")"
   ]
  },
  {
   "cell_type": "markdown",
   "id": "d5b9bb8c-b174-4a04-8c0e-e59d79545978",
   "metadata": {
    "collapsed": false,
    "name": "data_preview_md"
   },
   "source": [
    "## Prepare sample data\n",
    "\n",
    "For this exercise, we will use the Citi Bike NYC bike share dataset from the\n",
    "[Zero to Snowflake tutorial](https://developers.snowflake.com/solution/citi-bike-data-analysis-create-and-manage-snowflake-objects-using-notebooks/).\n",
    "We have loaded this data into the CITIBIKE_TRIPS_TABLE"
   ]
  },
  {
   "cell_type": "code",
   "execution_count": null,
   "id": "e8f3f65f-38e6-47c8-b997-aa9c41ee32df",
   "metadata": {
    "collapsed": false,
    "language": "python",
    "name": "data_preview"
   },
   "outputs": [],
   "source": [
    "raw_features = session.table(\"CITIBIKE_TRIPS_TABLE\")\n",
    "\n",
    "# Show a preview of the data using snowpark.DataFrame.to_pandas()\n",
    "raw_features.limit(5).to_pandas()"
   ]
  },
  {
   "cell_type": "markdown",
   "id": "d359d184-ae6d-486e-a65a-a8187224ad47",
   "metadata": {
    "collapsed": false,
    "name": "create_fs_md"
   },
   "source": [
    "Create a new Feature Store\n",
    "=========================================\n",
    "\n",
    "Create a new Feature Store from in our database and schema. Note that we also configure a\n",
    "``default_warehouse`` to be used with the Feature Store. The choice of warehouse is not important at\n",
    "this time so long as a valid warehouse is provided."
   ]
  },
  {
   "cell_type": "code",
   "execution_count": 4,
   "id": "0cd0cb4b-99f1-4e4a-9bc1-08b13824b37c",
   "metadata": {
    "collapsed": false,
    "language": "python",
    "name": "create_fs"
   },
   "outputs": [],
   "source": [
    "from snowflake.ml.feature_store import FeatureStore, CreationMode, Entity, FeatureView\n",
    "\n",
    "fs = FeatureStore(\n",
    "    session=session,\n",
    "    database=\"FEATURE_STORE_DATABASE\",\n",
    "    name=\"FEATURE_STORE_SCHEMA\",\n",
    "    default_warehouse=\"FEATURE_STORE_WH\",\n",
    "    creation_mode=CreationMode.CREATE_IF_NOT_EXIST,\n",
    ")"
   ]
  },
  {
   "cell_type": "markdown",
   "id": "9aa83340-7c0a-4001-9d3c-7214222c3b27",
   "metadata": {
    "collapsed": false,
    "name": "entities_md"
   },
   "source": [
    "## Creating Entities\n",
    "\n",
    "An *entity* is an abstraction over a set of primary keys used for looking up feature data. An Entity represents a real-world \"thing\" that has data associated with it. Below cell registers an entity called \"route\" in Feature Store."
   ]
  },
  {
   "cell_type": "code",
   "execution_count": 5,
   "id": "84a2ab90-efe5-4c2f-85a7-21cf61620e3a",
   "metadata": {
    "collapsed": false,
    "language": "python",
    "name": "entities"
   },
   "outputs": [
    {
     "name": "stdout",
     "output_type": "stream",
     "text": [
      "--------------------------------------------------------------------------------------------------------------\n",
      "|\"NAME\"  |\"JOIN_KEYS\"                          |\"DESC\"                                          |\"OWNER\"     |\n",
      "--------------------------------------------------------------------------------------------------------------\n",
      "|ROUTE   |[\"START_STATION_ID,END_STATION_ID\"]  |Starting and ending stations for the bike ride  |REGTEST_RL  |\n",
      "--------------------------------------------------------------------------------------------------------------\n",
      "\n"
     ]
    }
   ],
   "source": [
    "entity = Entity(\n",
    "    name=\"route\",\n",
    "    join_keys=[\"START_STATION_ID\", \"END_STATION_ID\"],\n",
    "    desc=\"Starting and ending stations for the bike ride\"\n",
    ")\n",
    "fs.register_entity(entity)\n",
    "\n",
    "# Show our newly created entity\n",
    "# snowpark.DataFrame.show() is another way to preview the DataFrame contents\n",
    "fs.list_entities().show()"
   ]
  },
  {
   "cell_type": "markdown",
   "id": "32408fc5-af40-41fc-971b-5301807ebaeb",
   "metadata": {
    "name": "feature_views_md"
   },
   "source": [
    "## Creating Feature Views\n",
    "\n",
    "A *feature view* is a group of logically-related features that are refreshed on the same schedule. The\n",
    "`FeatureView` constructor accepts a Snowpark DataFrame that contains the feature generation logic. The provided\n",
    "DataFrame must contain the `join_keys` columns specified in the entities associated with the feature view. In\n",
    "this example we are using time-series data, so we will also specify the timestamp column name. \n",
    "\n",
    "Below cell creates a feature view with 4 features. These 4 features are averaged TRIPDURATION value over past X (1 day, 7 days, 30 days and 1 year) time period and grouped by entity (START_STATION_ID and END_STATION_ID). It uses the [Snowpark analytics function](https://docs.snowflake.com/en/developer-guide/snowpark/reference/python/latest/snowpark/api/snowflake.snowpark.DataFrameAnalyticsFunctions.time_series_agg) for time-series aggreation. "
   ]
  },
  {
   "cell_type": "code",
   "execution_count": 6,
   "id": "16a665c3-4397-4c3a-81cd-a940075fc595",
   "metadata": {
    "collapsed": false,
    "language": "python",
    "name": "feature_views"
   },
   "outputs": [
    {
     "name": "stderr",
     "output_type": "stream",
     "text": [
      "DataFrameAnalyticsFunctions.time_series_agg() is experimental since 1.12.0. Do not use it in production. \n",
      "DataFrame.alias() is experimental since 1.5.0. Do not use it in production. \n"
     ]
    },
    {
     "data": {
      "text/html": [
       "<div>\n",
       "<style scoped>\n",
       "    .dataframe tbody tr th:only-of-type {\n",
       "        vertical-align: middle;\n",
       "    }\n",
       "\n",
       "    .dataframe tbody tr th {\n",
       "        vertical-align: top;\n",
       "    }\n",
       "\n",
       "    .dataframe thead th {\n",
       "        text-align: right;\n",
       "    }\n",
       "</style>\n",
       "<table border=\"1\" class=\"dataframe\">\n",
       "  <thead>\n",
       "    <tr style=\"text-align: right;\">\n",
       "      <th></th>\n",
       "      <th>NAME</th>\n",
       "      <th>VERSION</th>\n",
       "      <th>DATABASE_NAME</th>\n",
       "      <th>SCHEMA_NAME</th>\n",
       "      <th>CREATED_ON</th>\n",
       "      <th>OWNER</th>\n",
       "      <th>DESC</th>\n",
       "      <th>ENTITIES</th>\n",
       "      <th>REFRESH_FREQ</th>\n",
       "      <th>REFRESH_MODE</th>\n",
       "      <th>SCHEDULING_STATE</th>\n",
       "      <th>WAREHOUSE</th>\n",
       "    </tr>\n",
       "  </thead>\n",
       "  <tbody>\n",
       "    <tr>\n",
       "      <th>0</th>\n",
       "      <td>TRIP_HISTORY</td>\n",
       "      <td>1</td>\n",
       "      <td>REGTEST_DB</td>\n",
       "      <td>SNOWFLAKE_FEATURE_STORE_NOTEBOOK_QUICK_START</td>\n",
       "      <td>2024-07-22 10:48:05.340</td>\n",
       "      <td>REGTEST_RL</td>\n",
       "      <td></td>\n",
       "      <td>[\\n  \"ROUTE\"\\n]</td>\n",
       "      <td>None</td>\n",
       "      <td>None</td>\n",
       "      <td>None</td>\n",
       "      <td>None</td>\n",
       "    </tr>\n",
       "  </tbody>\n",
       "</table>\n",
       "</div>"
      ],
      "text/plain": [
       "           NAME VERSION DATABASE_NAME  \\\n",
       "0  TRIP_HISTORY       1    REGTEST_DB   \n",
       "\n",
       "                                    SCHEMA_NAME              CREATED_ON  \\\n",
       "0  SNOWFLAKE_FEATURE_STORE_NOTEBOOK_QUICK_START 2024-07-22 10:48:05.340   \n",
       "\n",
       "        OWNER DESC         ENTITIES REFRESH_FREQ REFRESH_MODE  \\\n",
       "0  REGTEST_RL       [\\n  \"ROUTE\"\\n]         None         None   \n",
       "\n",
       "  SCHEDULING_STATE WAREHOUSE  \n",
       "0             None      None  "
      ]
     },
     "execution_count": 6,
     "metadata": {},
     "output_type": "execute_result"
    }
   ],
   "source": [
    "from snowflake.snowpark import functions as F\n",
    "\n",
    "trip_stats = raw_features.select(\n",
    "    F.col(\"STOPTIME\"),\n",
    "    F.col(\"START_STATION_ID\"),\n",
    "    F.col(\"END_STATION_ID\"),\n",
    "    F.col(\"TRIPDURATION\"),\n",
    ").dropna().analytics.time_series_agg(\n",
    "    time_col=\"STOPTIME\",\n",
    "    group_by=entity.join_keys,\n",
    "    aggs={\"TRIPDURATION\": [\"AVG\"]},\n",
    "    windows=[\"-1D\", \"-7D\", \"-30D\", \"-1Y\"],\n",
    "    sliding_interval=\"1D\",\n",
    "    col_formatter=lambda input_col, agg, window : f\"{input_col}_{agg}_{window.lstrip('-')}\",\n",
    ").drop(F.col(\"SLIDING_POINT\"), F.col(\"TRIPDURATION\"))\n",
    "\n",
    "trip_stats_fv = FeatureView(\n",
    "    name=\"trip_history\",\n",
    "    entities=[entity],\n",
    "    feature_df=trip_stats,\n",
    "    timestamp_col=\"STOPTIME\",\n",
    ")\n",
    "\n",
    "trip_stats_fv = fs.register_feature_view(trip_stats_fv, version=\"1\", overwrite=True)\n",
    "\n",
    "# Show our newly created Feature View and display as Pandas DataFrame\n",
    "fs.list_feature_views().to_pandas()"
   ]
  },
  {
   "cell_type": "markdown",
   "id": "24bff365-4bbf-4d0c-b239-499eadde49e2",
   "metadata": {
    "name": "create_dataset_md"
   },
   "source": [
    "## Generating Datasets for Training\n",
    "\n",
    "We are now ready to generate our training set. We'll define a spine DataFrame to form the backbone of our generated\n",
    "dataset and pass it into ``FeatureStore.generate_dataset()`` along with our Feature Views.\n",
    "\n",
    "> NOTE: The spine serves as a request template and specifies the entities, labels and timestamps (when applicable). The\n",
    "  feature store then attaches feature values along the spine using an AS-OF join to efficiently combine and serve\n",
    "  the relevant, point-in-time correct feature data."
   ]
  },
  {
   "cell_type": "code",
   "execution_count": 7,
   "id": "6e73e71a-12fb-48ec-b776-5e83f812ce39",
   "metadata": {
    "collapsed": false,
    "language": "python",
    "name": "create_dataset"
   },
   "outputs": [
    {
     "data": {
      "text/html": [
       "<div>\n",
       "<style scoped>\n",
       "    .dataframe tbody tr th:only-of-type {\n",
       "        vertical-align: middle;\n",
       "    }\n",
       "\n",
       "    .dataframe tbody tr th {\n",
       "        vertical-align: top;\n",
       "    }\n",
       "\n",
       "    .dataframe thead th {\n",
       "        text-align: right;\n",
       "    }\n",
       "</style>\n",
       "<table border=\"1\" class=\"dataframe\">\n",
       "  <thead>\n",
       "    <tr style=\"text-align: right;\">\n",
       "      <th></th>\n",
       "      <th>STARTTIME</th>\n",
       "      <th>START_STATION_ID</th>\n",
       "      <th>END_STATION_ID</th>\n",
       "      <th>TRIPDURATION</th>\n",
       "      <th>TRIPDURATION_AVG_1D</th>\n",
       "      <th>TRIPDURATION_AVG_7D</th>\n",
       "      <th>TRIPDURATION_AVG_30D</th>\n",
       "      <th>TRIPDURATION_AVG_1Y</th>\n",
       "    </tr>\n",
       "  </thead>\n",
       "  <tbody>\n",
       "    <tr>\n",
       "      <th>0</th>\n",
       "      <td>2013-10-16 18:39:51</td>\n",
       "      <td>453</td>\n",
       "      <td>521</td>\n",
       "      <td>296</td>\n",
       "      <td>NaN</td>\n",
       "      <td>NaN</td>\n",
       "      <td>NaN</td>\n",
       "      <td>NaN</td>\n",
       "    </tr>\n",
       "    <tr>\n",
       "      <th>1</th>\n",
       "      <td>2013-12-17 22:17:16</td>\n",
       "      <td>453</td>\n",
       "      <td>521</td>\n",
       "      <td>344</td>\n",
       "      <td>296.0</td>\n",
       "      <td>296.0</td>\n",
       "      <td>296.0</td>\n",
       "      <td>296.000000</td>\n",
       "    </tr>\n",
       "    <tr>\n",
       "      <th>2</th>\n",
       "      <td>2014-01-13 17:07:57</td>\n",
       "      <td>453</td>\n",
       "      <td>521</td>\n",
       "      <td>252</td>\n",
       "      <td>344.0</td>\n",
       "      <td>344.0</td>\n",
       "      <td>344.0</td>\n",
       "      <td>320.000000</td>\n",
       "    </tr>\n",
       "    <tr>\n",
       "      <th>3</th>\n",
       "      <td>2014-02-26 21:46:39</td>\n",
       "      <td>453</td>\n",
       "      <td>521</td>\n",
       "      <td>239</td>\n",
       "      <td>252.0</td>\n",
       "      <td>252.0</td>\n",
       "      <td>298.0</td>\n",
       "      <td>297.333344</td>\n",
       "    </tr>\n",
       "    <tr>\n",
       "      <th>4</th>\n",
       "      <td>2014-05-06 18:48:38</td>\n",
       "      <td>453</td>\n",
       "      <td>521</td>\n",
       "      <td>400</td>\n",
       "      <td>239.0</td>\n",
       "      <td>239.0</td>\n",
       "      <td>239.0</td>\n",
       "      <td>282.750000</td>\n",
       "    </tr>\n",
       "  </tbody>\n",
       "</table>\n",
       "</div>"
      ],
      "text/plain": [
       "            STARTTIME  START_STATION_ID  END_STATION_ID  TRIPDURATION  \\\n",
       "0 2013-10-16 18:39:51               453             521           296   \n",
       "1 2013-12-17 22:17:16               453             521           344   \n",
       "2 2014-01-13 17:07:57               453             521           252   \n",
       "3 2014-02-26 21:46:39               453             521           239   \n",
       "4 2014-05-06 18:48:38               453             521           400   \n",
       "\n",
       "   TRIPDURATION_AVG_1D  TRIPDURATION_AVG_7D  TRIPDURATION_AVG_30D  \\\n",
       "0                  NaN                  NaN                   NaN   \n",
       "1                296.0                296.0                 296.0   \n",
       "2                344.0                344.0                 344.0   \n",
       "3                252.0                252.0                 298.0   \n",
       "4                239.0                239.0                 239.0   \n",
       "\n",
       "   TRIPDURATION_AVG_1Y  \n",
       "0                  NaN  \n",
       "1           296.000000  \n",
       "2           320.000000  \n",
       "3           297.333344  \n",
       "4           282.750000  "
      ]
     },
     "execution_count": 7,
     "metadata": {},
     "output_type": "execute_result"
    }
   ],
   "source": [
    "# Build our spine DF, filtering to rides that we have at least 10 records for to ensure statistical significance.\n",
    "# Note that we use STARTTIME as the timestamp in our spine, which will be matched to the timestamp column(s) in\n",
    "# the FeatureView. In this case, trip_stats_fv uses STOPTIME as its timestamp column, meaning each record in the\n",
    "# spine will only be joined to rides that were completed prior to the current record.\n",
    "query = f\"\"\"\n",
    "    WITH routes AS (\n",
    "    SELECT START_STATION_ID, END_STATION_ID\n",
    "    FROM CITIBIKE_TRIPS_TABLE\n",
    "    GROUP BY START_STATION_ID, END_STATION_ID\n",
    "    HAVING COUNT(*) >= 10\n",
    "    )\n",
    "    SELECT t.STARTTIME, t.START_STATION_ID, t.END_STATION_ID, t.TRIPDURATION\n",
    "    FROM CITIBIKE_TRIPS_TABLE t\n",
    "    JOIN routes r\n",
    "    ON t.START_STATION_ID = r.START_STATION_ID AND t.END_STATION_ID = r.END_STATION_ID\n",
    "\"\"\"\n",
    "spine_df = session.sql(query)\n",
    "\n",
    "ds = fs.generate_dataset(\n",
    "    name=\"trip_duration_ds\",\n",
    "    spine_df=spine_df,\n",
    "    features=[trip_stats_fv],\n",
    "    spine_timestamp_col=\"STARTTIME\",\n",
    "    spine_label_cols=[\"TRIPDURATION\"],\n",
    "    include_feature_view_timestamp_col=False,   # optional\n",
    ")\n",
    "\n",
    "# Show preview of the Dataset contents by loading into a Pandas DataFrame\n",
    "ds.read.to_pandas().head(5)"
   ]
  },
  {
   "cell_type": "markdown",
   "id": "d519bffa-79ea-4c4c-a6f9-9b261d3cbd2a",
   "metadata": {
    "collapsed": false,
    "name": "conclusion_md"
   },
   "source": [
    "# Conclusion\n",
    "\n",
    "You can now use this dataset in your downstream modeling workloads. Models trained using Snowpark ML Modeling\n",
    "and Snowflake Model Registry will automatically benefit from model lineage and other MLOps features.\n",
    "You can find full examples of using the Snowflake Feature Store on GitHub at\n",
    "[`snowflake-ml-python`](https://github.com/snowflakedb/snowflake-ml-python/tree/main/snowflake/ml/feature_store/notebooks/customer_demo>)"
   ]
  }
 ],
 "metadata": {
  "kernelspec": {
   "display_name": "Python 3 (ipykernel)",
   "language": "python",
   "name": "python3"
  },
  "language_info": {
   "codemirror_mode": {
    "name": "ipython",
    "version": 3
   },
   "file_extension": ".py",
   "mimetype": "text/x-python",
   "name": "python",
   "nbconvert_exporter": "python",
   "pygments_lexer": "ipython3",
   "version": "3.8.19"
  }
 },
 "nbformat": 4,
 "nbformat_minor": 5
}
